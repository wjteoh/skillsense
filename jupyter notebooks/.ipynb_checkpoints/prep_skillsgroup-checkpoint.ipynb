{
 "cells": [
  {
   "cell_type": "code",
   "execution_count": 1,
   "metadata": {
    "collapsed": true
   },
   "outputs": [],
   "source": [
    "import pandas as pd\n",
    "import time"
   ]
  },
  {
   "cell_type": "code",
   "execution_count": 2,
   "metadata": {
    "collapsed": true
   },
   "outputs": [],
   "source": [
    "BASE_DIR = 'G:/Program Files/PycharmProjects/job_analytics/jobtitle_graph/project_SkillSense/app_SkillSense/'\n",
    "DATA_DIR = BASE_DIR + 'data/'\n",
    "\n",
    "chord_nodes_df = pd.read_csv(DATA_DIR + '/node_TopicSkill.csv', keep_default_na=False)\n",
    "ch_label_dict = dict(zip(chord_nodes_df.id, chord_nodes_df.label))\n",
    "\n",
    "query_TopicOnly = 'nodeType == \"{}\"'.format('Topic')\n",
    "query_SkillOnly = 'nodeType == \"{}\"'.format('Skill')\n",
    "\n",
    "skillgroup_df = chord_nodes_df.query(query_TopicOnly)\n",
    "skills_df = chord_nodes_df.query(query_SkillOnly)\n",
    "\n",
    "skillgroup_id_list = sorted(skillgroup_df.id.tolist())\n",
    "skills_id_list = sorted(skills_df.id.tolist())\n",
    "\n",
    "ch_topicskills_linksIDF_df = pd.read_csv(DATA_DIR + '/edge_TopicSkillOneRepSkill_46_20171229-1333.csv', keep_default_na=False)"
   ]
  },
  {
   "cell_type": "code",
   "execution_count": 3,
   "metadata": {
    "collapsed": true
   },
   "outputs": [],
   "source": [
    "# to rename Skills Group according to new representative skills\n",
    "def prepNewTopicName():\n",
    "    sg_s_optm_df = pd.read_csv(DATA_DIR + '/edge_TopicSkillOneRepSkill_46_20171229-1333.csv', keep_default_na=False)\n",
    "    master_list = []\n",
    "    for skill_group_id in skillgroup_id_list:\n",
    "        cores_skill_group_filter = sg_s_optm_df['source'] == skill_group_id\n",
    "        selected_sg_df = sg_s_optm_df[cores_skill_group_filter].head(5).copy()\n",
    "        if selected_sg_df.shape[0] == 0:\n",
    "            continue\n",
    "        print skill_group_id\n",
    "        skill_id_list = selected_sg_df.target.tolist()\n",
    "        skill_list = [ch_label_dict[int(skill_id)] for skill_id in skill_id_list]\n",
    "        s = \", \";\n",
    "        newSGName = s.join(skill_list)\n",
    "        master_list.append([newSGName])\n",
    "\n",
    "    onerep_sg_s_df = pd.DataFrame(master_list, columns=['skill_group_name_NEW'])\n",
    "    timestr = time.strftime(\"%Y%m%d-%H%M\")\n",
    "    onerep_sg_s_df.to_csv(DATA_DIR + '/node_TopicSkill(SGNamesNEW)'+timestr+'.csv', index=False)\n",
    "\n",
    "    return onerep_sg_s_df"
   ]
  },
  {
   "cell_type": "code",
   "execution_count": null,
   "metadata": {
    "collapsed": true
   },
   "outputs": [],
   "source": [
    "# to assign one skill to only one skill group, from each mapping to SG, take highest weight:\n",
    "def prepNewRepSkills():\n",
    "    master_list = []\n",
    "    skills_wo_group = []\n",
    "    ch_topicskills_linksIDF_df.sort_values(['target', 'weight'], ascending=[True,False], inplace=True)\n",
    "    for selector_skillid in skills_id_list:\n",
    "        filterbyskill = ch_topicskills_linksIDF_df['target'] == selector_skillid\n",
    "        skillrows = ch_topicskills_linksIDF_df[filterbyskill].copy()\n",
    "        if skillrows.shape[0] == 0:\n",
    "            skills_wo_group.append([selector_skillid, ch_label_dict[selector_skillid]])\n",
    "            continue\n",
    "        master_list.append([skillrows.iloc[0].source, skillrows.iloc[0].target, skillrows.iloc[0].weight])\n",
    "        print ch_label_dict[selector_skillid]\n",
    "\n",
    "    skills_wo_grp_df = pd.DataFrame(skills_wo_group, columns=['id', 'skill_name'])\n",
    "    \n",
    "    timestr = time.strftime(\"%Y%m%d-%H%M\")\n",
    "    fname = 'dict_Skills_wo_group'+timestr+'.csv'\n",
    "    # skills_wo_grp_df.to_csv(DATA_DIR + '/' + fname, index=False)\n",
    "\n",
    "    onerep_sg_s_df = pd.DataFrame(master_list, columns=['source', 'target', 'weight'])\n",
    "    onerep_sg_s_df.sort_values(['target', 'weight'], ascending=[True,False], inplace=True)\n",
    "    fname2 = 'edge_TopicSkillOneRepSkill_'+ len(skillgroup_list) +'_'+timestr+'.csv'\n",
    "    # onerep_sg_s_df.to_csv(DATA_DIR + '/'+ fname2, index=False)\n",
    "\n",
    "    return onerep_sg_s_df"
   ]
  }
 ],
 "metadata": {
  "kernelspec": {
   "display_name": "Python 2",
   "language": "python",
   "name": "python2"
  },
  "language_info": {
   "codemirror_mode": {
    "name": "ipython",
    "version": 2
   },
   "file_extension": ".py",
   "mimetype": "text/x-python",
   "name": "python",
   "nbconvert_exporter": "python",
   "pygments_lexer": "ipython2",
   "version": "2.7.11"
  }
 },
 "nbformat": 4,
 "nbformat_minor": 2
}
